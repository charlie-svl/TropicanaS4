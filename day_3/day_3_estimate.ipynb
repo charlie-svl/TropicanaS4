{
 "cells": [
  {
   "cell_type": "code",
   "execution_count": null,
   "metadata": {
    "vscode": {
     "languageId": "plaintext"
    }
   },
   "outputs": [],
   "source": [
    "\n",
    "# Selecting features (X) and target (y)\n",
    "X = df_small[['year', 'gini', 'employment rate', 'average_age']]\n",
    "y = df_small['gdp']\n",
    "\n",
    "# Splitting data into train and test sets\n",
    "X_train, X_test, y_train, y_test = train_test_split(X, y, test_size=0.2, random_state=42)\n",
    "\n",
    "# Model: Random Forest Regressor\n",
    "model = RandomForestRegressor(n_estimators=100, random_state=42)\n",
    "model.fit(X_train, y_train)\n",
    "\n",
    "# Forecasting the next 5 years\n",
    "future_years = [max(df['year']) + i for i in range(5, 10)]\n",
    "future_data = pd.DataFrame({\n",
    "    'year': future_years,\n",
    "    'gini': [0.66,\n",
    "0.67,\n",
    "0.68,\n",
    "0.69,\n",
    "0.7],  \n",
    "    'employment rate': [0.48,\n",
    "0.46,\n",
    "0.50,\n",
    "0.51,\n",
    "0.52],\n",
    "    'average_age': [36,\n",
    "36,\n",
    "37,\n",
    "37,\n",
    "39]  \n",
    "})\n",
    "\n",
    "# Predict GDP for future years\n",
    "future_gdp_predictions = model.predict(future_data)\n",
    "\n",
    "# Display results\n",
    "future_data['predicted gdp'] = future_gdp_predictions\n",
    "print(future_data)\n",
    "\n",
    "# Feature Importance to see which factors contribute most to GDP prediction\n",
    "feature_importances = model.feature_importances_\n",
    "feature_names = X.columns\n",
    "\n",
    "# Plotting feature importance\n",
    "plt.barh(feature_names, feature_importances)\n",
    "plt.xlabel(\"Feature Importance\")\n",
    "plt.title(\"Feature Importance in Predicting GDP\")\n",
    "plt.show()\n"
   ]
  }
 ],
 "metadata": {
  "language_info": {
   "name": "python"
  }
 },
 "nbformat": 4,
 "nbformat_minor": 2
}
