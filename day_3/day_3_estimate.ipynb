{
 "cells": [
  {
   "cell_type": "code",
   "execution_count": 19,
   "metadata": {},
   "outputs": [],
   "source": [
    "import pandas as pd\n",
    "import numpy as np\n",
    "from sklearn.model_selection import train_test_split\n",
    "from sklearn.ensemble import RandomForestRegressor\n",
    "from sklearn.preprocessing import LabelEncoder\n",
    "import matplotlib.pyplot as plt"
   ]
  },
  {
   "cell_type": "code",
   "execution_count": 20,
   "metadata": {},
   "outputs": [
    {
     "name": "stdout",
     "output_type": "stream",
     "text": [
      "   Unnamed: 0  year        gdp  employed  total  female_percentage      gini  \\\n",
      "0           0     0  947610.99  0.516000    500           0.468000  0.604055   \n",
      "1           1     1  931427.95  0.507905    506           0.468379  0.607001   \n",
      "2           2     2  872704.64  0.498039    510           0.468627  0.634642   \n",
      "3           3     3  875281.14  0.492188    512           0.466797  0.613444   \n",
      "4           4     4  853371.77  0.483431    513           0.469786  0.625739   \n",
      "\n",
      "   average_age  \n",
      "0    33.516000  \n",
      "1    34.106719  \n",
      "2    34.831373  \n",
      "3    35.560547  \n",
      "4    36.230019  \n"
     ]
    }
   ],
   "source": [
    "file_path = \"day_3.csv\"\n",
    "df = pd.read_csv(file_path, delimiter=\",\")  \n",
    "\n",
    "print(df.head())"
   ]
  },
  {
   "cell_type": "code",
   "execution_count": 23,
   "metadata": {},
   "outputs": [
    {
     "name": "stdout",
     "output_type": "stream",
     "text": [
      "   year  total  employed  average_age  predicted gdp\n",
      "0   111    505      0.48           36   1.011524e+06\n",
      "1   112    505      0.46           36   9.924565e+05\n",
      "2   113    505      0.50           37   1.186639e+06\n",
      "3   114    505      0.51           37   1.202341e+06\n",
      "4   115    505      0.52           39   1.227068e+06\n"
     ]
    },
    {
     "data": {
      "image/png": "[encoded data removed]",
      "text/plain": [
       "<Figure size 640x480 with 1 Axes>"
      ]
     },
     "metadata": {},
     "output_type": "display_data"
    }
   ],
   "source": [
    "\n",
    "\n",
    "# Selecting features (X) and target (y)\n",
    "X = df[['year', 'total', 'employed', 'average_age', ]]\n",
    "y = df['gdp']\n",
    "\n",
    "# Splitting data into train and test sets\n",
    "X_train, X_test, y_train, y_test = train_test_split(X, y, test_size=0.2, random_state=42)\n",
    "\n",
    "# Model: Random Forest Regressor\n",
    "model = RandomForestRegressor(n_estimators=100, random_state=42)\n",
    "model.fit(X_train, y_train)\n",
    "\n",
    "# Forecasting the next 5 years\n",
    "future_years = [max(df['year']) + i for i in range(1, 6)]\n",
    "future_data = pd.DataFrame({\n",
    "    'year': future_years, \n",
    "    'total' : [505,505,505,505,505],\n",
    "    'employed': [0.48,\n",
    "0.46,\n",
    "0.50,\n",
    "0.51,\n",
    "0.52],\n",
    "    'average_age': [36,\n",
    "36,\n",
    "37,\n",
    "37,\n",
    "39]  \n",
    "})\n",
    "\n",
    "# Predict GDP for future years\n",
    "future_gdp_predictions = model.predict(future_data)\n",
    "\n",
    "# Display results\n",
    "future_data['predicted gdp'] = future_gdp_predictions\n",
    "print(future_data)\n",
    "\n",
    "# Feature Importance to see which factors contribute most to GDP prediction\n",
    "feature_importances = model.feature_importances_\n",
    "feature_names = X.columns\n",
    "\n",
    "# Plotting feature importance\n",
    "plt.barh(feature_names, feature_importances)\n",
    "plt.xlabel(\"Feature Importance\")\n",
    "plt.title(\"Feature Importance in Predicting GDP\")\n",
    "plt.show()\n"
   ]
  },
  {
   "cell_type": "code",
   "execution_count": null,
   "metadata": {},
   "outputs": [],
   "source": [
    "\n",
    "\n",
    "# Selecting features (X) and target (y)\n",
    "X = df[['year', 'employed', 'average_age', 'total']]\n",
    "y = df['gini']\n",
    "\n",
    "# Splitting data into train and test sets\n",
    "X_train, X_test, y_train, y_test = train_test_split(X, y, test_size=0.2, random_state=42)\n",
    "\n",
    "# Model: Random Forest Regressor\n",
    "model = RandomForestRegressor(n_estimators=100, random_state=42)\n",
    "model.fit(X_train, y_train)\n",
    "\n",
    "# Forecasting the next 5 years\n",
    "future_years = [max(df['year']) + i for i in range(1, 6)]\n",
    "future_data = pd.DataFrame({\n",
    "    'year': future_years, \n",
    "    'employed': [0.48,\n",
    "0.46,\n",
    "0.50,\n",
    "0.51,\n",
    "0.52],\n",
    "    'average_age': [36,\n",
    "36,\n",
    "37,\n",
    "37,\n",
    "39]  \n",
    "})\n",
    "\n",
    "# Predict GDP for future years\n",
    "future_gdp_predictions = model.predict(future_data)\n",
    "\n",
    "# Display results\n",
    "future_data['predicted gdp'] = future_gdp_predictions\n",
    "print(future_data)\n",
    "\n",
    "# Feature Importance to see which factors contribute most to GDP prediction\n",
    "feature_importances = model.feature_importances_\n",
    "feature_names = X.columns\n",
    "\n",
    "# Plotting feature importance\n",
    "plt.barh(feature_names, feature_importances)\n",
    "plt.xlabel(\"Feature Importance\")\n",
    "plt.title(\"Feature Importance in Predicting GDP\")\n",
    "plt.show()\n"
   ]
  },
  {
   "cell_type": "code",
   "execution_count": null,
   "metadata": {},
   "outputs": [],
   "source": []
  }
 ],
 "metadata": {
  "kernelspec": {
   "display_name": "base",
   "language": "python",
   "name": "python3"
  },
  "language_info": {
   "codemirror_mode": {
    "name": "ipython",
    "version": 3
   },
   "file_extension": ".py",
   "mimetype": "text/x-python",
   "name": "python",
   "nbconvert_exporter": "python",
   "pygments_lexer": "ipython3",
   "version": "3.9.13"
  }
 },
 "nbformat": 4,
 "nbformat_minor": 2
}
