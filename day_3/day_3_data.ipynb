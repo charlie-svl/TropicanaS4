{
 "cells": [
  {
   "cell_type": "code",
   "execution_count": 98,
   "metadata": {},
   "outputs": [],
   "source": [
    "import pandas as pd\n",
    "import numpy as np\n",
    "from sklearn.model_selection import train_test_split\n",
    "from sklearn.ensemble import RandomForestRegressor\n",
    "from sklearn.preprocessing import LabelEncoder\n",
    "import matplotlib.pyplot as plt"
   ]
  },
  {
   "cell_type": "code",
   "execution_count": 99,
   "metadata": {},
   "outputs": [
    {
     "name": "stdout",
     "output_type": "stream",
     "text": [
      "   year        gdp\n",
      "0     0  947610.99\n",
      "1     1  931427.95\n",
      "2     2  872704.64\n",
      "3     3  875281.14\n",
      "4     4  853371.77\n"
     ]
    }
   ],
   "source": [
    "file_path = \"data_tropicana_year110_gdp.csv\"\n",
    "df_gdp = pd.read_csv(file_path, delimiter=\",\")  \n",
    "\n",
    "print(df_gdp.head())"
   ]
  },
  {
   "cell_type": "code",
   "execution_count": 100,
   "metadata": {},
   "outputs": [
    {
     "data": {
      "text/html": [
       "<div>\n",
       "<style scoped>\n",
       "    .dataframe tbody tr th:only-of-type {\n",
       "        vertical-align: middle;\n",
       "    }\n",
       "\n",
       "    .dataframe tbody tr th {\n",
       "        vertical-align: top;\n",
       "    }\n",
       "\n",
       "    .dataframe thead th {\n",
       "        text-align: right;\n",
       "    }\n",
       "</style>\n",
       "<table border=\"1\" class=\"dataframe\">\n",
       "  <thead>\n",
       "    <tr style=\"text-align: right;\">\n",
       "      <th></th>\n",
       "      <th>year</th>\n",
       "      <th>gdp</th>\n",
       "    </tr>\n",
       "  </thead>\n",
       "  <tbody>\n",
       "    <tr>\n",
       "      <th>0</th>\n",
       "      <td>0</td>\n",
       "      <td>947610.99</td>\n",
       "    </tr>\n",
       "    <tr>\n",
       "      <th>1</th>\n",
       "      <td>1</td>\n",
       "      <td>931427.95</td>\n",
       "    </tr>\n",
       "    <tr>\n",
       "      <th>2</th>\n",
       "      <td>2</td>\n",
       "      <td>872704.64</td>\n",
       "    </tr>\n",
       "    <tr>\n",
       "      <th>3</th>\n",
       "      <td>3</td>\n",
       "      <td>875281.14</td>\n",
       "    </tr>\n",
       "    <tr>\n",
       "      <th>4</th>\n",
       "      <td>4</td>\n",
       "      <td>853371.77</td>\n",
       "    </tr>\n",
       "  </tbody>\n",
       "</table>\n",
       "</div>"
      ],
      "text/plain": [
       "   year        gdp\n",
       "0     0  947610.99\n",
       "1     1  931427.95\n",
       "2     2  872704.64\n",
       "3     3  875281.14\n",
       "4     4  853371.77"
      ]
     },
     "execution_count": 100,
     "metadata": {},
     "output_type": "execute_result"
    }
   ],
   "source": [
    "file_path = \"data_tropicana_year110.csv\"\n",
    "df = pd.read_csv(file_path, delimiter=\",\")  \n",
    "\n",
    "df_gdp.head()"
   ]
  },
  {
   "cell_type": "code",
   "execution_count": 101,
   "metadata": {},
   "outputs": [],
   "source": [
    "avg_income = df.groupby('year', as_index=False)['income'].mean()\n",
    "\n",
    "df_gdp = df_gdp.merge(avg_income, on='year', how='right')\n",
    "\n"
   ]
  },
  {
   "cell_type": "code",
   "execution_count": null,
   "metadata": {},
   "outputs": [],
   "source": []
  },
  {
   "cell_type": "code",
   "execution_count": 102,
   "metadata": {},
   "outputs": [],
   "source": [
    "import numpy as np\n",
    "import pandas as pd\n",
    "\n",
    "# Gender Distribution Calculation\n",
    "gender_distribution = df.groupby(['year', 'sex']).size().unstack(fill_value=0)\n",
    "gender_distribution['total'] = gender_distribution.sum(axis=1)\n",
    "gender_distribution['female_percentage'] = gender_distribution['F'] / gender_distribution['total']\n",
    "\n",
    "# Employment Rate Calculation\n",
    "non_employed_professions = ['child', 'unemployed', 'homemaker', 'retired']\n",
    "df['employed'] = ~df['profession'].isin(non_employed_professions)\n",
    "employment_rate = df.groupby('year')['employed'].mean()  # Convert to percentage\n",
    "\n",
    "\n",
    "\n"
   ]
  },
  {
   "cell_type": "code",
   "execution_count": 103,
   "metadata": {},
   "outputs": [
    {
     "data": {
      "text/plain": [
       "year\n",
       "0    0.604055\n",
       "1    0.607001\n",
       "2    0.634642\n",
       "3    0.613444\n",
       "4    0.625739\n",
       "Name: income, dtype: float64"
      ]
     },
     "execution_count": 103,
     "metadata": {},
     "output_type": "execute_result"
    }
   ],
   "source": [
    "# Gini Coefficient Calculation\n",
    "def gini_coefficient(income_list):\n",
    "    \"\"\"Computes the Gini coefficient of a list of incomes.\"\"\"\n",
    "    incomes = np.sort(income_list)  # Sort incomes in ascending order\n",
    "    n = len(incomes)\n",
    "    if n == 0:\n",
    "        return np.nan  # Avoid division by zero\n",
    "    cumulative_income_sum = np.sum((np.arange(1, n + 1) * incomes))\n",
    "    total_income_sum = np.sum(incomes)\n",
    "    \n",
    "    gini = (2 * cumulative_income_sum) / (n * total_income_sum) - (n + 1) / n\n",
    "    return gini\n",
    "\n",
    "gini = df.groupby('year')['income'].apply(gini_coefficient)\n",
    "\n",
    "gini.head()"
   ]
  },
  {
   "cell_type": "code",
   "execution_count": 104,
   "metadata": {},
   "outputs": [
    {
     "data": {
      "text/html": [
       "<div>\n",
       "<style scoped>\n",
       "    .dataframe tbody tr th:only-of-type {\n",
       "        vertical-align: middle;\n",
       "    }\n",
       "\n",
       "    .dataframe tbody tr th {\n",
       "        vertical-align: top;\n",
       "    }\n",
       "\n",
       "    .dataframe thead th {\n",
       "        text-align: right;\n",
       "    }\n",
       "</style>\n",
       "<table border=\"1\" class=\"dataframe\">\n",
       "  <thead>\n",
       "    <tr style=\"text-align: right;\">\n",
       "      <th></th>\n",
       "      <th>year</th>\n",
       "      <th>gdp</th>\n",
       "      <th>income_x</th>\n",
       "      <th>employed</th>\n",
       "      <th>F</th>\n",
       "      <th>M</th>\n",
       "      <th>X</th>\n",
       "      <th>total</th>\n",
       "      <th>female_percentage</th>\n",
       "      <th>income_y</th>\n",
       "    </tr>\n",
       "  </thead>\n",
       "  <tbody>\n",
       "    <tr>\n",
       "      <th>0</th>\n",
       "      <td>0</td>\n",
       "      <td>947610.99</td>\n",
       "      <td>1895.221980</td>\n",
       "      <td>0.516000</td>\n",
       "      <td>234</td>\n",
       "      <td>244</td>\n",
       "      <td>22</td>\n",
       "      <td>500</td>\n",
       "      <td>0.468000</td>\n",
       "      <td>0.604055</td>\n",
       "    </tr>\n",
       "    <tr>\n",
       "      <th>1</th>\n",
       "      <td>1</td>\n",
       "      <td>931427.95</td>\n",
       "      <td>1840.766700</td>\n",
       "      <td>0.507905</td>\n",
       "      <td>237</td>\n",
       "      <td>247</td>\n",
       "      <td>22</td>\n",
       "      <td>506</td>\n",
       "      <td>0.468379</td>\n",
       "      <td>0.607001</td>\n",
       "    </tr>\n",
       "    <tr>\n",
       "      <th>2</th>\n",
       "      <td>2</td>\n",
       "      <td>872704.64</td>\n",
       "      <td>1711.185569</td>\n",
       "      <td>0.498039</td>\n",
       "      <td>239</td>\n",
       "      <td>248</td>\n",
       "      <td>23</td>\n",
       "      <td>510</td>\n",
       "      <td>0.468627</td>\n",
       "      <td>0.634642</td>\n",
       "    </tr>\n",
       "    <tr>\n",
       "      <th>3</th>\n",
       "      <td>3</td>\n",
       "      <td>875281.14</td>\n",
       "      <td>1709.533477</td>\n",
       "      <td>0.492188</td>\n",
       "      <td>239</td>\n",
       "      <td>250</td>\n",
       "      <td>23</td>\n",
       "      <td>512</td>\n",
       "      <td>0.466797</td>\n",
       "      <td>0.613444</td>\n",
       "    </tr>\n",
       "    <tr>\n",
       "      <th>4</th>\n",
       "      <td>4</td>\n",
       "      <td>853371.77</td>\n",
       "      <td>1663.492729</td>\n",
       "      <td>0.483431</td>\n",
       "      <td>241</td>\n",
       "      <td>249</td>\n",
       "      <td>23</td>\n",
       "      <td>513</td>\n",
       "      <td>0.469786</td>\n",
       "      <td>0.625739</td>\n",
       "    </tr>\n",
       "  </tbody>\n",
       "</table>\n",
       "</div>"
      ],
      "text/plain": [
       "   year        gdp     income_x  employed    F    M   X  total  \\\n",
       "0     0  947610.99  1895.221980  0.516000  234  244  22    500   \n",
       "1     1  931427.95  1840.766700  0.507905  237  247  22    506   \n",
       "2     2  872704.64  1711.185569  0.498039  239  248  23    510   \n",
       "3     3  875281.14  1709.533477  0.492188  239  250  23    512   \n",
       "4     4  853371.77  1663.492729  0.483431  241  249  23    513   \n",
       "\n",
       "   female_percentage  income_y  \n",
       "0           0.468000  0.604055  \n",
       "1           0.468379  0.607001  \n",
       "2           0.468627  0.634642  \n",
       "3           0.466797  0.613444  \n",
       "4           0.469786  0.625739  "
      ]
     },
     "execution_count": 104,
     "metadata": {},
     "output_type": "execute_result"
    }
   ],
   "source": [
    "\n",
    "# Merge\n",
    "df_gdp = df_gdp.merge(employment_rate, on='year', how='left')\n",
    "\n",
    "df_gdp = df_gdp.merge(gender_distribution, on='year', how='left')\n",
    "\n",
    "df_gdp = df_gdp.merge(gini, on='year', how='right')\n",
    "\n",
    "df_gdp.head()\n"
   ]
  },
  {
   "cell_type": "code",
   "execution_count": 105,
   "metadata": {},
   "outputs": [
    {
     "data": {
      "text/html": [
       "<div>\n",
       "<style scoped>\n",
       "    .dataframe tbody tr th:only-of-type {\n",
       "        vertical-align: middle;\n",
       "    }\n",
       "\n",
       "    .dataframe tbody tr th {\n",
       "        vertical-align: top;\n",
       "    }\n",
       "\n",
       "    .dataframe thead th {\n",
       "        text-align: right;\n",
       "    }\n",
       "</style>\n",
       "<table border=\"1\" class=\"dataframe\">\n",
       "  <thead>\n",
       "    <tr style=\"text-align: right;\">\n",
       "      <th></th>\n",
       "      <th>year</th>\n",
       "      <th>gdp</th>\n",
       "      <th>income_x</th>\n",
       "      <th>employed</th>\n",
       "      <th>total</th>\n",
       "      <th>female_percentage</th>\n",
       "      <th>income_y</th>\n",
       "    </tr>\n",
       "  </thead>\n",
       "  <tbody>\n",
       "    <tr>\n",
       "      <th>0</th>\n",
       "      <td>0</td>\n",
       "      <td>947610.99</td>\n",
       "      <td>1895.221980</td>\n",
       "      <td>0.516000</td>\n",
       "      <td>500</td>\n",
       "      <td>0.468000</td>\n",
       "      <td>0.604055</td>\n",
       "    </tr>\n",
       "    <tr>\n",
       "      <th>1</th>\n",
       "      <td>1</td>\n",
       "      <td>931427.95</td>\n",
       "      <td>1840.766700</td>\n",
       "      <td>0.507905</td>\n",
       "      <td>506</td>\n",
       "      <td>0.468379</td>\n",
       "      <td>0.607001</td>\n",
       "    </tr>\n",
       "    <tr>\n",
       "      <th>2</th>\n",
       "      <td>2</td>\n",
       "      <td>872704.64</td>\n",
       "      <td>1711.185569</td>\n",
       "      <td>0.498039</td>\n",
       "      <td>510</td>\n",
       "      <td>0.468627</td>\n",
       "      <td>0.634642</td>\n",
       "    </tr>\n",
       "    <tr>\n",
       "      <th>3</th>\n",
       "      <td>3</td>\n",
       "      <td>875281.14</td>\n",
       "      <td>1709.533477</td>\n",
       "      <td>0.492188</td>\n",
       "      <td>512</td>\n",
       "      <td>0.466797</td>\n",
       "      <td>0.613444</td>\n",
       "    </tr>\n",
       "    <tr>\n",
       "      <th>4</th>\n",
       "      <td>4</td>\n",
       "      <td>853371.77</td>\n",
       "      <td>1663.492729</td>\n",
       "      <td>0.483431</td>\n",
       "      <td>513</td>\n",
       "      <td>0.469786</td>\n",
       "      <td>0.625739</td>\n",
       "    </tr>\n",
       "  </tbody>\n",
       "</table>\n",
       "</div>"
      ],
      "text/plain": [
       "   year        gdp     income_x  employed  total  female_percentage  income_y\n",
       "0     0  947610.99  1895.221980  0.516000    500           0.468000  0.604055\n",
       "1     1  931427.95  1840.766700  0.507905    506           0.468379  0.607001\n",
       "2     2  872704.64  1711.185569  0.498039    510           0.468627  0.634642\n",
       "3     3  875281.14  1709.533477  0.492188    512           0.466797  0.613444\n",
       "4     4  853371.77  1663.492729  0.483431    513           0.469786  0.625739"
      ]
     },
     "execution_count": 105,
     "metadata": {},
     "output_type": "execute_result"
    }
   ],
   "source": [
    "df_gdp.rename(columns={'income': 'gini'}, inplace=True)\n",
    "df_gdp = df_gdp.drop(columns=['F', 'M','X'])\n",
    "df_gdp.head()"
   ]
  },
  {
   "cell_type": "code",
   "execution_count": 106,
   "metadata": {},
   "outputs": [],
   "source": [
    "#  Add column for average age per year\n",
    "average_age_per_year = df.groupby('year')['age'].mean().reset_index(name='average_age')\n",
    "\n",
    "# Merge average age per year into the original dataframe\n",
    "df_gdp = df_gdp.merge(average_age_per_year, on='year', how='left')\n"
   ]
  },
  {
   "cell_type": "code",
   "execution_count": 107,
   "metadata": {},
   "outputs": [],
   "source": [
    "df_gdp.to_csv('day_3.csv')"
   ]
  },
  {
   "cell_type": "code",
   "execution_count": 108,
   "metadata": {},
   "outputs": [
    {
     "ename": "KeyError",
     "evalue": "\"Column(s) ['gini'] do not exist\"",
     "output_type": "error",
     "traceback": [
      "\u001b[1;31m---------------------------------------------------------------------------\u001b[0m",
      "\u001b[1;31mKeyError\u001b[0m                                  Traceback (most recent call last)",
      "\u001b[1;32m~\\AppData\\Local\\Temp\\ipykernel_76240\\1209625775.py\u001b[0m in \u001b[0;36m<module>\u001b[1;34m\u001b[0m\n\u001b[0;32m      5\u001b[0m \u001b[1;33m\u001b[0m\u001b[0m\n\u001b[0;32m      6\u001b[0m \u001b[1;31m# Get GDP, Gini, employment rate, and average age for the last 5 years\u001b[0m\u001b[1;33m\u001b[0m\u001b[1;33m\u001b[0m\u001b[0m\n\u001b[1;32m----> 7\u001b[1;33m economic_indicators = filtered_df.groupby('year').agg({\n\u001b[0m\u001b[0;32m      8\u001b[0m     \u001b[1;34m'gdp'\u001b[0m\u001b[1;33m:\u001b[0m \u001b[1;34m'mean'\u001b[0m\u001b[1;33m,\u001b[0m\u001b[1;33m\u001b[0m\u001b[1;33m\u001b[0m\u001b[0m\n\u001b[0;32m      9\u001b[0m     \u001b[1;34m'gini'\u001b[0m\u001b[1;33m:\u001b[0m \u001b[1;34m'mean'\u001b[0m\u001b[1;33m,\u001b[0m\u001b[1;33m\u001b[0m\u001b[1;33m\u001b[0m\u001b[0m\n",
      "\u001b[1;32mc:\\Users\\charl\\anaconda3\\lib\\site-packages\\pandas\\core\\groupby\\generic.py\u001b[0m in \u001b[0;36maggregate\u001b[1;34m(self, func, engine, engine_kwargs, *args, **kwargs)\u001b[0m\n\u001b[0;32m    867\u001b[0m \u001b[1;33m\u001b[0m\u001b[0m\n\u001b[0;32m    868\u001b[0m         \u001b[0mop\u001b[0m \u001b[1;33m=\u001b[0m \u001b[0mGroupByApply\u001b[0m\u001b[1;33m(\u001b[0m\u001b[0mself\u001b[0m\u001b[1;33m,\u001b[0m \u001b[0mfunc\u001b[0m\u001b[1;33m,\u001b[0m \u001b[0margs\u001b[0m\u001b[1;33m,\u001b[0m \u001b[0mkwargs\u001b[0m\u001b[1;33m)\u001b[0m\u001b[1;33m\u001b[0m\u001b[1;33m\u001b[0m\u001b[0m\n\u001b[1;32m--> 869\u001b[1;33m         \u001b[0mresult\u001b[0m \u001b[1;33m=\u001b[0m \u001b[0mop\u001b[0m\u001b[1;33m.\u001b[0m\u001b[0magg\u001b[0m\u001b[1;33m(\u001b[0m\u001b[1;33m)\u001b[0m\u001b[1;33m\u001b[0m\u001b[1;33m\u001b[0m\u001b[0m\n\u001b[0m\u001b[0;32m    870\u001b[0m         \u001b[1;32mif\u001b[0m \u001b[1;32mnot\u001b[0m \u001b[0mis_dict_like\u001b[0m\u001b[1;33m(\u001b[0m\u001b[0mfunc\u001b[0m\u001b[1;33m)\u001b[0m \u001b[1;32mand\u001b[0m \u001b[0mresult\u001b[0m \u001b[1;32mis\u001b[0m \u001b[1;32mnot\u001b[0m \u001b[1;32mNone\u001b[0m\u001b[1;33m:\u001b[0m\u001b[1;33m\u001b[0m\u001b[1;33m\u001b[0m\u001b[0m\n\u001b[0;32m    871\u001b[0m             \u001b[1;32mreturn\u001b[0m \u001b[0mresult\u001b[0m\u001b[1;33m\u001b[0m\u001b[1;33m\u001b[0m\u001b[0m\n",
      "\u001b[1;32mc:\\Users\\charl\\anaconda3\\lib\\site-packages\\pandas\\core\\apply.py\u001b[0m in \u001b[0;36magg\u001b[1;34m(self)\u001b[0m\n\u001b[0;32m    166\u001b[0m \u001b[1;33m\u001b[0m\u001b[0m\n\u001b[0;32m    167\u001b[0m         \u001b[1;32mif\u001b[0m \u001b[0mis_dict_like\u001b[0m\u001b[1;33m(\u001b[0m\u001b[0marg\u001b[0m\u001b[1;33m)\u001b[0m\u001b[1;33m:\u001b[0m\u001b[1;33m\u001b[0m\u001b[1;33m\u001b[0m\u001b[0m\n\u001b[1;32m--> 168\u001b[1;33m             \u001b[1;32mreturn\u001b[0m \u001b[0mself\u001b[0m\u001b[1;33m.\u001b[0m\u001b[0magg_dict_like\u001b[0m\u001b[1;33m(\u001b[0m\u001b[1;33m)\u001b[0m\u001b[1;33m\u001b[0m\u001b[1;33m\u001b[0m\u001b[0m\n\u001b[0m\u001b[0;32m    169\u001b[0m         \u001b[1;32melif\u001b[0m \u001b[0mis_list_like\u001b[0m\u001b[1;33m(\u001b[0m\u001b[0marg\u001b[0m\u001b[1;33m)\u001b[0m\u001b[1;33m:\u001b[0m\u001b[1;33m\u001b[0m\u001b[1;33m\u001b[0m\u001b[0m\n\u001b[0;32m    170\u001b[0m             \u001b[1;31m# we require a list, but not a 'str'\u001b[0m\u001b[1;33m\u001b[0m\u001b[1;33m\u001b[0m\u001b[0m\n",
      "\u001b[1;32mc:\\Users\\charl\\anaconda3\\lib\\site-packages\\pandas\\core\\apply.py\u001b[0m in \u001b[0;36magg_dict_like\u001b[1;34m(self)\u001b[0m\n\u001b[0;32m    471\u001b[0m             \u001b[0mselection\u001b[0m \u001b[1;33m=\u001b[0m \u001b[0mobj\u001b[0m\u001b[1;33m.\u001b[0m\u001b[0m_selection\u001b[0m\u001b[1;33m\u001b[0m\u001b[1;33m\u001b[0m\u001b[0m\n\u001b[0;32m    472\u001b[0m \u001b[1;33m\u001b[0m\u001b[0m\n\u001b[1;32m--> 473\u001b[1;33m         \u001b[0marg\u001b[0m \u001b[1;33m=\u001b[0m \u001b[0mself\u001b[0m\u001b[1;33m.\u001b[0m\u001b[0mnormalize_dictlike_arg\u001b[0m\u001b[1;33m(\u001b[0m\u001b[1;34m\"agg\"\u001b[0m\u001b[1;33m,\u001b[0m \u001b[0mselected_obj\u001b[0m\u001b[1;33m,\u001b[0m \u001b[0marg\u001b[0m\u001b[1;33m)\u001b[0m\u001b[1;33m\u001b[0m\u001b[1;33m\u001b[0m\u001b[0m\n\u001b[0m\u001b[0;32m    474\u001b[0m \u001b[1;33m\u001b[0m\u001b[0m\n\u001b[0;32m    475\u001b[0m         \u001b[1;32mif\u001b[0m \u001b[0mselected_obj\u001b[0m\u001b[1;33m.\u001b[0m\u001b[0mndim\u001b[0m \u001b[1;33m==\u001b[0m \u001b[1;36m1\u001b[0m\u001b[1;33m:\u001b[0m\u001b[1;33m\u001b[0m\u001b[1;33m\u001b[0m\u001b[0m\n",
      "\u001b[1;32mc:\\Users\\charl\\anaconda3\\lib\\site-packages\\pandas\\core\\apply.py\u001b[0m in \u001b[0;36mnormalize_dictlike_arg\u001b[1;34m(self, how, obj, func)\u001b[0m\n\u001b[0;32m    589\u001b[0m             \u001b[1;32mif\u001b[0m \u001b[0mlen\u001b[0m\u001b[1;33m(\u001b[0m\u001b[0mcols\u001b[0m\u001b[1;33m)\u001b[0m \u001b[1;33m>\u001b[0m \u001b[1;36m0\u001b[0m\u001b[1;33m:\u001b[0m\u001b[1;33m\u001b[0m\u001b[1;33m\u001b[0m\u001b[0m\n\u001b[0;32m    590\u001b[0m                 \u001b[0mcols_sorted\u001b[0m \u001b[1;33m=\u001b[0m \u001b[0mlist\u001b[0m\u001b[1;33m(\u001b[0m\u001b[0msafe_sort\u001b[0m\u001b[1;33m(\u001b[0m\u001b[0mlist\u001b[0m\u001b[1;33m(\u001b[0m\u001b[0mcols\u001b[0m\u001b[1;33m)\u001b[0m\u001b[1;33m)\u001b[0m\u001b[1;33m)\u001b[0m\u001b[1;33m\u001b[0m\u001b[1;33m\u001b[0m\u001b[0m\n\u001b[1;32m--> 591\u001b[1;33m                 \u001b[1;32mraise\u001b[0m \u001b[0mKeyError\u001b[0m\u001b[1;33m(\u001b[0m\u001b[1;34mf\"Column(s) {cols_sorted} do not exist\"\u001b[0m\u001b[1;33m)\u001b[0m\u001b[1;33m\u001b[0m\u001b[1;33m\u001b[0m\u001b[0m\n\u001b[0m\u001b[0;32m    592\u001b[0m \u001b[1;33m\u001b[0m\u001b[0m\n\u001b[0;32m    593\u001b[0m         \u001b[0mis_aggregator\u001b[0m \u001b[1;33m=\u001b[0m \u001b[1;32mlambda\u001b[0m \u001b[0mx\u001b[0m\u001b[1;33m:\u001b[0m \u001b[0misinstance\u001b[0m\u001b[1;33m(\u001b[0m\u001b[0mx\u001b[0m\u001b[1;33m,\u001b[0m \u001b[1;33m(\u001b[0m\u001b[0mlist\u001b[0m\u001b[1;33m,\u001b[0m \u001b[0mtuple\u001b[0m\u001b[1;33m,\u001b[0m \u001b[0mdict\u001b[0m\u001b[1;33m)\u001b[0m\u001b[1;33m)\u001b[0m\u001b[1;33m\u001b[0m\u001b[1;33m\u001b[0m\u001b[0m\n",
      "\u001b[1;31mKeyError\u001b[0m: \"Column(s) ['gini'] do not exist\""
     ]
    }
   ],
   "source": [
    "\n",
    "# Get the last 5 years of data\n",
    "last_5_years = df_gdp['year'].max() - 4\n",
    "filtered_df = df_gdp[df_gdp['year'] >= last_5_years]\n",
    "\n",
    "\n",
    "# Get GDP, Gini, employment rate, and average age for the last 5 years\n",
    "economic_indicators = filtered_df.groupby('year').agg({\n",
    "    'gdp': 'mean',\n",
    "    'gini': 'mean',\n",
    "    'employed': 'mean',\n",
    "    'average_age': 'mean'\n",
    "}).reset_index()\n",
    "\n",
    "\n",
    "\n",
    "print(\"\\nEconomic indicators for the last 5 years:\")\n",
    "print(economic_indicators)\n"
   ]
  }
 ],
 "metadata": {
  "kernelspec": {
   "display_name": "base",
   "language": "python",
   "name": "python3"
  },
  "language_info": {
   "codemirror_mode": {
    "name": "ipython",
    "version": 3
   },
   "file_extension": ".py",
   "mimetype": "text/x-python",
   "name": "python",
   "nbconvert_exporter": "python",
   "pygments_lexer": "ipython3",
   "version": "3.9.13"
  }
 },
 "nbformat": 4,
 "nbformat_minor": 2
}
