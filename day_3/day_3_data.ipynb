{
 "cells": [
  {
   "cell_type": "code",
   "execution_count": null,
   "metadata": {},
   "outputs": [],
   "source": [
    "import pandas as pd\n",
    "import numpy as np\n",
    "from sklearn.model_selection import train_test_split\n",
    "from sklearn.ensemble import RandomForestRegressor\n",
    "from sklearn.preprocessing import LabelEncoder\n",
    "import matplotlib.pyplot as plt"
   ]
  },
  {
   "cell_type": "code",
   "execution_count": null,
   "metadata": {},
   "outputs": [],
   "source": [
    "file_path = \"data_tropicana_year105_gdp.csv\"\n",
    "df_gdp = pd.read_csv(file_path, delimiter=\",\")  \n",
    "\n",
    "print(df_gdp.head())"
   ]
  },
  {
   "cell_type": "code",
   "execution_count": null,
   "metadata": {},
   "outputs": [],
   "source": [
    "file_path = \"data_tropicana_year105.csv\"\n",
    "df = pd.read_csv(file_path, delimiter=\",\")  \n",
    "\n",
    "print(df.head())"
   ]
  },
  {
   "cell_type": "code",
   "execution_count": null,
   "metadata": {},
   "outputs": [],
   "source": [
    "df['avg_income_per_profession'] = df.groupby(['year', 'profession'])['income'].transform('mean')\n",
    "\n"
   ]
  },
  {
   "cell_type": "code",
   "execution_count": null,
   "metadata": {},
   "outputs": [],
   "source": [
    "\n",
    "# Group by year and profession to get the count of each profession per year\n",
    "profession_counts = df.groupby(['year', 'profession']).size().reset_index(name='profession_count')\n",
    "\n",
    "# Get the total number of workers per year (sum of counts of all professions for each year)\n",
    "total_workers_per_year = df.groupby('year').size().reset_index(name='total_workers')\n",
    "\n",
    "# Merge the total workers per year into the profession_counts\n",
    "profession_counts = profession_counts.merge(total_workers_per_year, on='year', how='left')\n",
    "\n",
    "# Calculate the percentage of the workforce for each profession per year\n",
    "profession_counts['percentage_of_workforce'] = (profession_counts['profession_count'] / profession_counts['total_workers']) * 100\n",
    "\n",
    "# Merge this back into the original dataset\n",
    "df = df.merge(profession_counts[['year', 'profession', 'percentage_of_workforce']], on=['year', 'profession'], how='left')\n",
    "\n",
    "# Display the first few rows to see the result\n",
    "print(df.head())"
   ]
  },
  {
   "cell_type": "code",
   "execution_count": null,
   "metadata": {},
   "outputs": [],
   "source": [
    "import numpy as np\n",
    "import pandas as pd\n",
    "\n",
    "# Gender Distribution Calculation\n",
    "gender_distribution = df.groupby(['year', 'sex']).size().unstack(fill_value=0)\n",
    "gender_distribution['total'] = gender_distribution.sum(axis=1)\n",
    "gender_distribution['female_percentage'] = gender_distribution['F'] / gender_distribution['total']\n",
    "\n",
    "# Employment Rate Calculation\n",
    "non_employed_professions = ['child', 'unemployed', 'homemaker', 'retired']\n",
    "df['employed'] = ~df['profession'].isin(non_employed_professions)\n",
    "employment_rate = df.groupby('year')['employed'].mean()  # Convert to percentage\n",
    "\n",
    "# Gini Coefficient Calculation\n",
    "def gini_coefficient(income_list):\n",
    "    \"\"\"Computes the Gini coefficient of a list of incomes.\"\"\"\n",
    "    incomes = np.sort(income_list)  # Sort incomes in ascending order\n",
    "    n = len(incomes)\n",
    "    if n == 0:\n",
    "        return np.nan  # Avoid division by zero\n",
    "    cumulative_income_sum = np.sum((np.arange(1, n + 1) * incomes))\n",
    "    total_income_sum = np.sum(incomes)\n",
    "    \n",
    "    gini = (2 * cumulative_income_sum) / (n * total_income_sum) - (n + 1) / n\n",
    "    return gini\n",
    "\n",
    "gini = df.groupby('year')['income'].apply(gini_coefficient)\n",
    "\n",
    "\n",
    "\n",
    "\n",
    "\n"
   ]
  },
  {
   "cell_type": "code",
   "execution_count": null,
   "metadata": {},
   "outputs": [],
   "source": [
    "#  Add column for average age per year\n",
    "average_age_per_year = df.groupby('year')['age'].mean().reset_index(name='average_age')\n",
    "\n",
    "# Merge average age per year into the original dataframe\n",
    "df = df.merge(average_age_per_year, on='year', how='left')\n"
   ]
  },
  {
   "cell_type": "code",
   "execution_count": null,
   "metadata": {},
   "outputs": [],
   "source": []
  }
 ],
 "metadata": {
  "kernelspec": {
   "display_name": "base",
   "language": "python",
   "name": "python3"
  },
  "language_info": {
   "name": "python",
   "version": "3.9.13"
  }
 },
 "nbformat": 4,
 "nbformat_minor": 2
}
