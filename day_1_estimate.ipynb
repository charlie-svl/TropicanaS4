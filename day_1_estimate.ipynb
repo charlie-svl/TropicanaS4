{
 "cells": [
  {
   "cell_type": "code",
   "execution_count": 11,
   "metadata": {},
   "outputs": [],
   "source": [
    "import pandas as pd\n",
    "import numpy as np\n",
    "from sklearn.model_selection import train_test_split\n",
    "from sklearn.ensemble import RandomForestRegressor\n",
    "from sklearn.preprocessing import LabelEncoder\n",
    "import matplotlib.pyplot as plt"
   ]
  },
  {
   "cell_type": "code",
   "execution_count": 12,
   "metadata": {},
   "outputs": [
    {
     "name": "stdout",
     "output_type": "stream",
     "text": [
      "   year        gdp\n",
      "0     0  947610.99\n",
      "1     1  931427.95\n",
      "2     2  872704.64\n",
      "3     3  875281.14\n",
      "4     4  853371.77\n"
     ]
    },
    {
     "name": "stderr",
     "output_type": "stream",
     "text": [
      "C:\\Users\\charl\\AppData\\Local\\Temp\\ipykernel_68936\\1044693080.py:2: ParserWarning: Falling back to the 'python' engine because the 'c' engine does not support regex separators (separators > 1 char and different from '\\s+' are interpreted as regex); you can avoid this warning by specifying engine='python'.\n",
      "  df_gdp = pd.read_csv(file_path, delimiter=\"\\,\")\n"
     ]
    }
   ],
   "source": [
    "file_path = \"data_all_teams_gdp.csv\"\n",
    "df_gdp = pd.read_csv(file_path, delimiter=\"\\,\")  \n",
    "\n",
    "print(df_gdp.head())"
   ]
  },
  {
   "cell_type": "code",
   "execution_count": 13,
   "metadata": {},
   "outputs": [
    {
     "name": "stderr",
     "output_type": "stream",
     "text": [
      "C:\\Users\\charl\\AppData\\Local\\Temp\\ipykernel_68936\\3647335811.py:2: ParserWarning: Falling back to the 'python' engine because the 'c' engine does not support regex separators (separators > 1 char and different from '\\s+' are interpreted as regex); you can avoid this warning by specifying engine='python'.\n",
      "  df = pd.read_csv(file_path, delimiter=\"\\,\")\n"
     ]
    },
    {
     "name": "stdout",
     "output_type": "stream",
     "text": [
      "   year sex     profession   income\n",
      "0     0   F  civil servant  5131.08\n",
      "1     0   M          child     0.00\n",
      "2     0   M     unemployed   124.10\n",
      "3     0   M         farmer  1868.39\n",
      "4     0   F          child     0.00\n"
     ]
    }
   ],
   "source": [
    "file_path = \"data_all_teams.csv\"\n",
    "df = pd.read_csv(file_path, delimiter=\"\\,\")  \n",
    "\n",
    "print(df.head())"
   ]
  },
  {
   "cell_type": "code",
   "execution_count": 14,
   "metadata": {},
   "outputs": [
    {
     "data": {
      "text/html": [
       "<div>\n",
       "<style scoped>\n",
       "    .dataframe tbody tr th:only-of-type {\n",
       "        vertical-align: middle;\n",
       "    }\n",
       "\n",
       "    .dataframe tbody tr th {\n",
       "        vertical-align: top;\n",
       "    }\n",
       "\n",
       "    .dataframe thead th {\n",
       "        text-align: right;\n",
       "    }\n",
       "</style>\n",
       "<table border=\"1\" class=\"dataframe\">\n",
       "  <thead>\n",
       "    <tr style=\"text-align: right;\">\n",
       "      <th></th>\n",
       "      <th>year</th>\n",
       "      <th>sex</th>\n",
       "      <th>profession</th>\n",
       "      <th>income</th>\n",
       "      <th>gdp</th>\n",
       "    </tr>\n",
       "  </thead>\n",
       "  <tbody>\n",
       "    <tr>\n",
       "      <th>0</th>\n",
       "      <td>0</td>\n",
       "      <td>F</td>\n",
       "      <td>civil servant</td>\n",
       "      <td>5131.08</td>\n",
       "      <td>947610.99</td>\n",
       "    </tr>\n",
       "    <tr>\n",
       "      <th>1</th>\n",
       "      <td>0</td>\n",
       "      <td>M</td>\n",
       "      <td>child</td>\n",
       "      <td>0.00</td>\n",
       "      <td>947610.99</td>\n",
       "    </tr>\n",
       "    <tr>\n",
       "      <th>2</th>\n",
       "      <td>0</td>\n",
       "      <td>M</td>\n",
       "      <td>unemployed</td>\n",
       "      <td>124.10</td>\n",
       "      <td>947610.99</td>\n",
       "    </tr>\n",
       "    <tr>\n",
       "      <th>3</th>\n",
       "      <td>0</td>\n",
       "      <td>M</td>\n",
       "      <td>farmer</td>\n",
       "      <td>1868.39</td>\n",
       "      <td>947610.99</td>\n",
       "    </tr>\n",
       "    <tr>\n",
       "      <th>4</th>\n",
       "      <td>0</td>\n",
       "      <td>F</td>\n",
       "      <td>child</td>\n",
       "      <td>0.00</td>\n",
       "      <td>947610.99</td>\n",
       "    </tr>\n",
       "  </tbody>\n",
       "</table>\n",
       "</div>"
      ],
      "text/plain": [
       "   year sex     profession   income        gdp\n",
       "0     0   F  civil servant  5131.08  947610.99\n",
       "1     0   M          child     0.00  947610.99\n",
       "2     0   M     unemployed   124.10  947610.99\n",
       "3     0   M         farmer  1868.39  947610.99\n",
       "4     0   F          child     0.00  947610.99"
      ]
     },
     "execution_count": 14,
     "metadata": {},
     "output_type": "execute_result"
    }
   ],
   "source": [
    "df = df.merge(df_gdp, on='year', how='left')\n",
    "df.head()"
   ]
  },
  {
   "cell_type": "code",
   "execution_count": 17,
   "metadata": {},
   "outputs": [
    {
     "name": "stdout",
     "output_type": "stream",
     "text": [
      "Predicted GDP for Year 1: 931427.95\n",
      "Predicted GDP for Year 2: 872704.64\n",
      "Predicted GDP for Year 3: 875281.14\n",
      "Predicted GDP for Year 4: 853371.77\n",
      "Predicted GDP for Year 5: 901704.41\n"
     ]
    },
    {
     "name": "stderr",
     "output_type": "stream",
     "text": [
      "c:\\Users\\charl\\anaconda3\\lib\\site-packages\\sklearn\\base.py:450: UserWarning: X does not have valid feature names, but RandomForestRegressor was fitted with feature names\n",
      "  warnings.warn(\n"
     ]
    },
    {
     "data": {
      "image/png": "[encoded data removed]",
      "text/plain": [
       "<Figure size 640x480 with 1 Axes>"
      ]
     },
     "metadata": {},
     "output_type": "display_data"
    }
   ],
   "source": [
    "\n",
    "label_encoder = LabelEncoder()\n",
    "df['sex'] = label_encoder.fit_transform(df['sex'])  # F -> 0, M -> 1\n",
    "df['profession'] = label_encoder.fit_transform(df['profession'])\n",
    "\n",
    "# Selecting features (X) and target (y)\n",
    "X = df[['year', 'sex', 'profession', 'income']]\n",
    "y = df['gdp']\n",
    "\n",
    "# Splitting data into train and test sets\n",
    "X_train, X_test, y_train, y_test = train_test_split(X, y, test_size=0.2, random_state=42)\n",
    "\n",
    "# Model: Random Forest Regressor\n",
    "model = RandomForestRegressor(n_estimators=100, random_state=42)\n",
    "model.fit(X_train, y_train)\n",
    "\n",
    "\n",
    "# Predict GDP for the next 5 years\n",
    "years_to_predict = np.array([1, 2, 3, 4, 5]).reshape(-1, 1)  # Next 5 years\n",
    "\n",
    "predicted_gdp = model.predict(np.hstack([years_to_predict, np.full((5, 1), 1), np.full((5, 1), 1), np.full((5, 1), 1000)]))  # Example values for 'sex', 'profession', and 'income'\n",
    "\n",
    "# Output predictions\n",
    "for year, gdp in zip(range(1, 6), predicted_gdp):\n",
    "    print(f\"Predicted GDP for Year {year}: {gdp:.2f}\")\n",
    "\n",
    "# Feature Importance to see which factors contribute most to GDP prediction\n",
    "feature_importances = model.feature_importances_\n",
    "feature_names = X.columns\n",
    "\n",
    "# Plotting feature importance\n",
    "plt.barh(feature_names, feature_importances)\n",
    "plt.xlabel(\"Feature Importance\")\n",
    "plt.title(\"Feature Importance in Predicting GDP\")\n",
    "plt.show()"
   ]
  },
  {
   "cell_type": "code",
   "execution_count": 18,
   "metadata": {},
   "outputs": [
    {
     "name": "stdout",
     "output_type": "stream",
     "text": [
      "Mean Absolute Error: 2.0211139352036177e-09\n"
     ]
    }
   ],
   "source": [
    "y_pred = model.predict(X_test)\n",
    "print(f\"Mean Absolute Error: {mean_absolute_error(y_test, y_pred)}\")\n"
   ]
  }
 ],
 "metadata": {
  "kernelspec": {
   "display_name": "base",
   "language": "python",
   "name": "python3"
  },
  "language_info": {
   "codemirror_mode": {
    "name": "ipython",
    "version": 3
   },
   "file_extension": ".py",
   "mimetype": "text/x-python",
   "name": "python",
   "nbconvert_exporter": "python",
   "pygments_lexer": "ipython3",
   "version": "3.9.13"
  }
 },
 "nbformat": 4,
 "nbformat_minor": 2
}
